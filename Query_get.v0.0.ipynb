{
 "cells": [
  {
   "cell_type": "markdown",
   "metadata": {},
   "source": [
    "BLASTNでヒットしたクエリーの結果から、Query=...の行だけ抽出するスクリプト"
   ]
  },
  {
   "cell_type": "code",
   "execution_count": null,
   "metadata": {},
   "outputs": [],
   "source": [
    "# マジックコマンドでセル全体の実行時間を計測 # Unix系OSの場合のみ\n",
    "%time\n",
    "\n",
    "# BLASTNでヒットしたクエリだけを抽出済みのファイル名\n",
    "infile = \"Test3.txt\"\n",
    "\n",
    "# HitレコードのQuery=行のみ再抽出した結果ファイル名\n",
    "outfile = \"Queries_\" + infile\n",
    "# print(outfile)\n",
    "\n",
    "# 入力ファイルと出力ファイルを同時に開いて、\"^Query=\"の行の時だけ出力ファイルに書き込む\n",
    "with open(infile, 'r') as inf:\n",
    "\n",
    "    with open(outfile, 'w') as out:\n",
    "        \n",
    "        # 入力ファイルから1行ずつイテレートする\n",
    "        for line in inf:\n",
    "            \n",
    "            if line.startswith(\"Database\"):\n",
    "                # データベースの名前\n",
    "                out.write(line)\n",
    "                out.write(\"\\n\\n\")\n",
    "            elif line.startswith(\"Query=\"):\n",
    "                # RemoveNoHits.v0.0.opynbで作成した入力ファイル:\"HIT_Pvamp2-2_result.txt\"では\n",
    "                # 改行コードを含めて連結してparagraphにしたので、ここで、改行コードで分割して、\n",
    "                # 最初の行だけ出力ファイルに書き出す\n",
    "                paragraph = line.split(\"\\n\")\n",
    "                #print(paragraph)\n",
    "                query = paragraph[0]\n",
    "                #print(query)\n",
    "                out.write(line)\n",
    "                \n",
    "    # withを使うと、処理終了後ファイルを自動的に閉じてくれる"
   ]
  }
 ],
 "metadata": {
  "kernelspec": {
   "display_name": "Python 3",
   "language": "python",
   "name": "python3"
  },
  "language_info": {
   "codemirror_mode": {
    "name": "ipython",
    "version": 3
   },
   "file_extension": ".py",
   "mimetype": "text/x-python",
   "name": "python",
   "nbconvert_exporter": "python",
   "pygments_lexer": "ipython3",
   "version": "3.7.4"
  }
 },
 "nbformat": 4,
 "nbformat_minor": 2
}
