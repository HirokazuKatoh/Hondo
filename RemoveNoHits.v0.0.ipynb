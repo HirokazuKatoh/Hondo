{
 "cells": [
  {
   "cell_type": "markdown",
   "metadata": {},
   "source": [
    "多数のクエリー配列のBLASTNの結果のファイルから、ヒットしたものがあったクエリーだけ選び出すスクリプト"
   ]
  },
  {
   "cell_type": "code",
   "execution_count": null,
   "metadata": {},
   "outputs": [],
   "source": [
    "# マジックコマンドでセル全体の実行時間を計測 # Unix系OSの場合のみ\n",
    "%time\n",
    "\n",
    "# BLASTN結果のファイル名\n",
    "infile = \"Test2.txt\"\n",
    "\n",
    "# Hitレコードのみ抽出した結果ファイル名\n",
    "outfile = \"Hit_\" + infile\n",
    "# print(outfile)\n",
    "\n",
    "# ^Query= から^Effective の行までを読み込んで、1行にする\n",
    "# \"No hits found\"でないレコードのみ結果ファイルに書き出す\n",
    "with open(infile, 'r') as inf:\n",
    "\n",
    "    with open(outfile, 'w') as out:\n",
    "        \n",
    "        # クエリーごとに改行を含む1行（段落）にまとめる\n",
    "        paragraph = \"\"\n",
    "        \n",
    "        for record in inf:\n",
    "            \n",
    "            if record.startswith(\"Database\"):\n",
    "                # データベースの名前\n",
    "                out.write(record)\n",
    "                out.write(\"\\n############################################################\\n\")\n",
    "            elif record.startswith(\"Query=\"):\n",
    "                #print(record)\n",
    "                paragraph = record\n",
    "                #print(paragraph)\n",
    "            elif record.startswith(\"Effective\"):\n",
    "                paragraph = paragraph + record\n",
    "                \n",
    "                # BLASTサーチでヒットがあったクエリーのみ結果ファイルに書き出す\n",
    "                if paragraph.find(\"No hits found\") == -1:\n",
    "                    #print(paragraph.find(\"No hits found\"))\n",
    "                    #print(paragraph)\n",
    "                    #print(\"############################################################\\n\")\n",
    "                    out.write(paragraph)\n",
    "                    out.write(\"############################################################\\n\")\n",
    "            else:\n",
    "                paragraph = paragraph + record\n",
    "            "
   ]
  }
 ],
 "metadata": {
  "kernelspec": {
   "display_name": "Python 3",
   "language": "python",
   "name": "python3"
  },
  "language_info": {
   "codemirror_mode": {
    "name": "ipython",
    "version": 3
   },
   "file_extension": ".py",
   "mimetype": "text/x-python",
   "name": "python",
   "nbconvert_exporter": "python",
   "pygments_lexer": "ipython3",
   "version": "3.7.4"
  }
 },
 "nbformat": 4,
 "nbformat_minor": 2
}
